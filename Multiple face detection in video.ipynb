{
 "cells": [
  {
   "cell_type": "code",
   "execution_count": 1,
   "id": "23c19cae",
   "metadata": {},
   "outputs": [],
   "source": [
    "\n",
    "import numpy as np\n",
    "import cv2\n",
    "\n",
    "video = cv2.VideoCapture('./WhatsApp Video 2023-02-28 at 09.53.03 (1).mp4')\n",
    "\n",
    "# Applying viola jones math which is in xml file to the image:\n",
    "\n",
    "model = cv2.CascadeClassifier('haarcascade_frontalface_default.xml')\n",
    "\n",
    "\n",
    "while True:\n",
    "    res , frames = video.read()\n",
    "    if res == True:\n",
    "        cordinates , no_of_faces = model.detectMultiScale2(frames)\n",
    "        if len(no_of_faces)>0:\n",
    "            #print(len(cordinates))\n",
    "            for i in range(len(no_of_faces)):\n",
    "                sol = cordinates[i]\n",
    "                pt1 = (sol[0] , sol[1])\n",
    "                pt2 = (sol[2] + sol[0] , sol[3] + sol[1])\n",
    "                cv2.rectangle(frames , pt1 , pt2 , (0,0,255) , 1)\n",
    "                font = cv2.FONT_HERSHEY_COMPLEX\n",
    "                text = 'no.of Faces= '+str(len(no_of_faces))\n",
    "                cv2.putText(frames, text, (20,20), font, 1, (0,0,255), 1)\n",
    "                cv2.imshow('vi' , frames)\n",
    "        if cv2.waitKey(20) & 0xFF == ord('q'):\n",
    "            break\n",
    "    else:\n",
    "        break\n",
    "video.release()\n",
    "cv2.destroyAllWindows()\n",
    " \n",
    " "
   ]
  },
  {
   "cell_type": "code",
   "execution_count": null,
   "id": "9ee54c46",
   "metadata": {},
   "outputs": [],
   "source": []
  }
 ],
 "metadata": {
  "kernelspec": {
   "display_name": "Python 3 (ipykernel)",
   "language": "python",
   "name": "python3"
  },
  "language_info": {
   "codemirror_mode": {
    "name": "ipython",
    "version": 3
   },
   "file_extension": ".py",
   "mimetype": "text/x-python",
   "name": "python",
   "nbconvert_exporter": "python",
   "pygments_lexer": "ipython3",
   "version": "3.9.12"
  }
 },
 "nbformat": 4,
 "nbformat_minor": 5
}
