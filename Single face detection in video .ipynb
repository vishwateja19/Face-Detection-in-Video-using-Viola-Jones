{
 "cells": [
  {
   "cell_type": "code",
   "execution_count": 1,
   "id": "b4393d52",
   "metadata": {},
   "outputs": [],
   "source": [
    "import numpy as np\n",
    "import cv2"
   ]
  },
  {
   "cell_type": "code",
   "execution_count": 2,
   "id": "5482ccb9",
   "metadata": {},
   "outputs": [],
   "source": [
    "## capturing video\n",
    "\n",
    "video=cv2.VideoCapture('./WhatsApp Video 2023-02-28 at 09.53.03.mp4')\n",
    "\n",
    "model=cv2.CascadeClassifier('./haarcascade_frontalface_default.xml')\n",
    "\n",
    "\n",
    "while True:\n",
    "    res,frames=video.read()\n",
    "    if res==True:\n",
    "        cordinates,no_of_faces=model.detectMultiScale2(frames)\n",
    "        pt1=(cordinates[0][0],cordinates[0][1])\n",
    "        pt2=(cordinates[0][2]+cordinates[0][0],cordinates[0][3]+cordinates[0][1])\n",
    "        cv2.rectangle(frames,pt1,pt2,(255,0,0),2)\n",
    "        text='no of faces :' +str(len(no_of_faces))\n",
    "        font=cv2.FONT_HERSHEY_COMPLEX\n",
    "        cv2.putText(frames,text,(50,20),font,.5,(0,255,0),2)\n",
    "        cv2.imshow('vid',frames)\n",
    "        if cv2.waitKey(10)& 0xFF==ord('q'):\n",
    "            break\n",
    "        \n",
    "    \n",
    "    else:\n",
    "        break\n",
    "\n",
    "video.release()\n",
    "cv2.destroyAllWindows()\n",
    "\n",
    "\n",
    "\n",
    "\n",
    "            \n"
   ]
  },
  {
   "cell_type": "code",
   "execution_count": null,
   "id": "9a70c914",
   "metadata": {},
   "outputs": [],
   "source": []
  }
 ],
 "metadata": {
  "kernelspec": {
   "display_name": "Python 3 (ipykernel)",
   "language": "python",
   "name": "python3"
  },
  "language_info": {
   "codemirror_mode": {
    "name": "ipython",
    "version": 3
   },
   "file_extension": ".py",
   "mimetype": "text/x-python",
   "name": "python",
   "nbconvert_exporter": "python",
   "pygments_lexer": "ipython3",
   "version": "3.9.12"
  }
 },
 "nbformat": 4,
 "nbformat_minor": 5
}
